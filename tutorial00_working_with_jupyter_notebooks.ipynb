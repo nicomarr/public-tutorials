{
 "cells": [
  {
   "cell_type": "markdown",
   "metadata": {
    "id": "OgtNZNZAHpY-"
   },
   "source": [
    "# Working in a Jupyter Notebook environment"
   ]
  },
  {
   "cell_type": "markdown",
   "metadata": {},
   "source": [
    "[![Open In Colab](https://colab.research.google.com/assets/colab-badge.svg)](https://colab.research.google.com/github/nicomarr/public-tutorials/blob/main/tutorial00_working_with_jupyter_notebooks.ipynb)"
   ]
  },
  {
   "cell_type": "markdown",
   "metadata": {
    "id": "djgyOYirHmrp"
   },
   "source": [
    "## Who is this notebook for?"
   ]
  },
  {
   "cell_type": "markdown",
   "metadata": {
    "id": "JYpCBCeaHqIo"
   },
   "source": [
    "This notebook is for anyone just getting started with Jupyter Notebooks, and who is interested in exploratory data analysis and literate programming. Use cases provided in this notebook are specifically tailored to researchers in health and life sciences."
   ]
  },
  {
   "cell_type": "markdown",
   "metadata": {
    "id": "Xiu5UXqnEX8d"
   },
   "source": [
    "## What is a Jupyter Notebook?"
   ]
  },
  {
   "cell_type": "markdown",
   "metadata": {
    "id": "9-Yh35whtdcI"
   },
   "source": [
    "A Jupyter Notebook is a sharable document that serves as a digital workspace combining computer code, explanatory text formatted in Markdown, visualizations, and computational outputs.\n",
    "\n",
    "At its core, Jupyter notebooks make use of a specialized programming technique, called Read-Eval-Print-Loop (REPL), or kernels in the Jupyter ecosystem, which execute the code within the notebook. For Python specifically, Jupyter relies on IPython technology to handle the core functionality and code execution.\n",
    "\n",
    "Think of a Jupyter notebook as a digital laboratory where you can experiment with code, document your process, and display results - all in one seamless environment. With Jupyter notebooks, you can analyze data, perform statistics, create visualizations, interact with external data sources, develop software, generate websites and documentation, create presentations, write publications, and even publish entire e-books.\n",
    "\n",
    "> Learn more about [Project Jupyter](https://jupyter.org/), an open-source project that develops and maintains the Jupyter notebook platform, along with other interactive computing tools. You can also take a more detailed look Jupyter and notebooks [here](https://docs.jupyter.org/en/latest/what_is_jupyter.html).\n"
   ]
  },
  {
   "cell_type": "markdown",
   "metadata": {
    "id": "p97DRdgGESRV"
   },
   "source": [
    "\n",
    "## Programs you need and how to navigate through a notebook"
   ]
  },
  {
   "cell_type": "markdown",
   "metadata": {
    "id": "9Z-t1Xi7KnbJ"
   },
   "source": [
    "The simplest way to work with a Jupyter Notebook is through any web browser. You can either install the Jupyter Notebook environment locally on your computer or access it through cloud platforms, like [**Google Colab**](https://colab.research.google.com/). To execute code cells or render markdown cells one after another, simply press **SHIFT + ENTER** on your keyboard (see the sections \"Understanding the cell types and modes in Jupyter Notebooks\" and \"Common Keyboard Shortcuts for Jupyter Notebooks\" below for more details and keybindings)."
   ]
  },
  {
   "cell_type": "markdown",
   "metadata": {
    "id": "1k7dhkPFM6A6"
   },
   "source": [
    "## Which programming language do Jupyter Notebooks support?\n",
    "\n",
    "[**Google Colab**](https://colab.research.google.com) supports the execution of [**Python**](https://www.python.org/) and [**R**](https://www.r-project.org/) code natively, and allows the execution of shell commands, or render **HTML** using so-called **magic commands**. This notebook will focus on [**Python**](https://www.python.org/), as it is the most widely used programming language in the data science community. Jupyter notebooks also support a variety of other programming languages, such as:\n",
    "- [**Julia**](https://julialang.org/) - a high-level, high-performance, dynamic programming language.\n",
    "- [**Mojo**](https://www.modular.com/mojo) - a new language and superset of Python designed for AI and machine learning.\n",
    "\n",
    "<br>\n",
    "\n",
    "> Note: If you are running this notebook on your local machine, it is recommended to create and use a virtual environment before running code cells with `%pip` statements below. It is best practice to create a new environment for any new project or workflow. This will help you avoid conflicts with existing packages on your system. Use **Conda** if you are working with multiple programming languages. Quick command line instructions on how to install **Miniconda**, a free minimal installer for **Conda**, can be found [here](https://docs.anaconda.com/miniconda/#quick-command-line-install). You can ignore this step if you are using **Google Colab** to run this notebook."
   ]
  },
  {
   "cell_type": "markdown",
   "metadata": {
    "id": "N9zU2CL9h7_8"
   },
   "source": [
    "## Use cases for Jupyter Notebooks\n",
    "\n",
    "Before diving into the details of how to work and edit Jupyter Notebooks, let's first run a few cells with use cases to illustrate the power of Jupyter Notebooks. In brief, notebooks have two main cell types:\n",
    "**Code cells**, and **Markdown cells**. Simply step through the cells below by pressing **SHIFT + ENTER** to see how they work. Before proceeding, make sure to select a Python kernel from the menu at the top right of the notebook. In Google Colab, this is called the runtime type."
   ]
  },
  {
   "cell_type": "markdown",
   "metadata": {
    "id": "3i42yqtVb283"
   },
   "source": [
    "### Getting started"
   ]
  },
  {
   "cell_type": "code",
   "execution_count": null,
   "metadata": {
    "colab": {
     "base_uri": "https://localhost:8080/"
    },
    "id": "aHGCNP2Dh7_9",
    "outputId": "f1ee0811-bb44-4564-f887-365db532b72f"
   },
   "outputs": [],
   "source": [
    "# This is a code cell.\n",
    "# Any text following a '#' symbol is a comment and is ignored by the Python interpreter.\n",
    "# You can run any Python code, which is a high-level, interpreted programming language.\n",
    "# It can be as simple as a mathematical expression or as complex as a machine learning model.\n",
    "# The output of a code cell is displayed below it.\n",
    "\n",
    "1 + 1"
   ]
  },
  {
   "cell_type": "markdown",
   "metadata": {
    "id": "OWoqiYx0h7_9"
   },
   "source": [
    "This is a markdown cell. You can write text here, and format it using markdown syntax, like so:\n",
    "\n",
    "- Bulleted lists are created by starting a line with a hyphen or an asterisk.\n",
    "- Headings are created by starting a line with one or more hash (#) symbols. The number of hashes indicates the heading level.\n",
    "- **Bold text** is created by enclosing the text in double asterisks.\n",
    "- *Italic text* is created by enclosing the text in single asterisks.\n",
    "- Latex equations can be rendered by enclosing the equation in dollar signs, like this: $y = mx + b$.\n",
    "- Hyperlinks are created by enclosing the link text in square brackets, followed by the URL in parentheses, like this: [Project Jupyter](https://jupyter.org/).\n",
    "- HTML code can be rendered directly in markdown cells.\n",
    "- Images can be displayed using the following syntax: `![image](image_path)`"
   ]
  },
  {
   "cell_type": "markdown",
   "metadata": {
    "id": "db0Y9XUfh7__"
   },
   "source": [
    "A Jupyter Notebook environment also allows you to execute shell commands by prefixing the command with an exclamation mark (!). For example, you can list the contents of the current directory by running the command `ls` in a code cell prefixed with an exclamation mark."
   ]
  },
  {
   "cell_type": "code",
   "execution_count": null,
   "metadata": {
    "colab": {
     "base_uri": "https://localhost:8080/"
    },
    "id": "AfpB5JoZh7__",
    "outputId": "38b5e6ec-fc1a-49ea-f07f-64305fbc799d"
   },
   "outputs": [],
   "source": [
    "!ls sample_data"
   ]
  },
  {
   "cell_type": "markdown",
   "metadata": {
    "id": "V2FCYFC-b286"
   },
   "source": [
    "Magic commands are another powerful feature of Jupyter Notebooks. These are either called **line magics**, prefixed with either a percentage sign (%), or **cell magics**, prefixed with two percentage signs (%%). As the name suggests, line magics apply to a single line of code, while cell magics apply to the entire cell. For example, you can use **line magics** with the `pip` or `conda`command to install packages directly from the notebook environment.\n",
    "\n",
    "> Note! If you run this notebook on your local machine, remember to select the correct Python kernel associated with the virtual environment you want to use. It's best to use the `%pip` magic command instead of `!pip`. This ensures that the package is installed in your current environment, i.e., the kernel selected in the top right corner of the notebook. In Google Colab, you can use either `!pip` or `%pip` to install packages."
   ]
  },
  {
   "cell_type": "code",
   "execution_count": null,
   "metadata": {
    "colab": {
     "base_uri": "https://localhost:8080/"
    },
    "id": "jgZ9Qdduh7__",
    "outputId": "87ba3842-ece2-454c-aa56-23ea4e442902"
   },
   "outputs": [],
   "source": [
    "%pip install \"altair[all]\" -qqU"
   ]
  },
  {
   "cell_type": "markdown",
   "metadata": {
    "id": "9KbLK-GVh7__"
   },
   "source": [
    "Or you can run javascript code in a code cell by using the cell magic command `%%js`."
   ]
  },
  {
   "cell_type": "code",
   "execution_count": null,
   "metadata": {
    "colab": {
     "base_uri": "https://localhost:8080/",
     "height": 17
    },
    "id": "C5Qq_Td_b287",
    "outputId": "31062f54-00c3-48db-ef55-1d4d607dc85e"
   },
   "outputs": [],
   "source": [
    "%%js\n",
    "element.text(\"Hello, World!\");"
   ]
  },
  {
   "cell_type": "markdown",
   "metadata": {
    "id": "bKFkSkWTb287"
   },
   "source": [
    "Make sure to check out the section below with more details on magic commands."
   ]
  },
  {
   "cell_type": "markdown",
   "metadata": {
    "id": "GhcpO1tjb287"
   },
   "source": [
    "### Data visualization"
   ]
  },
  {
   "cell_type": "markdown",
   "metadata": {
    "id": "1SCrkfJoh7_-"
   },
   "source": [
    "The code cell below uses numpy and matplotlib to generate a simple plot of the sigmoid function. Press **SHIFT + ENTER** to run the code cell and see the plot."
   ]
  },
  {
   "cell_type": "code",
   "execution_count": null,
   "metadata": {
    "colab": {
     "base_uri": "https://localhost:8080/",
     "height": 472
    },
    "id": "FkSf0VWXh7_-",
    "outputId": "b68d38d3-f541-4d5e-cb44-f57eb0a8be87"
   },
   "outputs": [],
   "source": [
    "import numpy as np\n",
    "import matplotlib.pyplot as plt\n",
    "\n",
    "def sigmoid(x):\n",
    "    return 1/(1+np.exp(-x))\n",
    "\n",
    "x = np.linspace(-10, 10, 100)\n",
    "plt.plot(x, sigmoid(x))\n",
    "plt.xlabel('x')\n",
    "plt.ylabel('sigmoid(x)')\n",
    "plt.title('Sigmoid Function')\n",
    "plt.grid()\n",
    "plt.show()"
   ]
  },
  {
   "cell_type": "markdown",
   "metadata": {
    "id": "cSprC5P9h8AA"
   },
   "source": [
    "The cell below is a code cell generating a Multifeature Scatter Plot using Altair, a declarative statistical visualization library for Python. Learn more about Altair [here](https://altair-viz.github.io/). The dataset used in this example is the Iris dataset, a classic dataset in the field of machine learning and statistics. The Iris dataset contains samples of iris flowers, each with four features (sepal length, sepal width, petal length, and petal width) and a target label (species of iris)."
   ]
  },
  {
   "cell_type": "code",
   "execution_count": null,
   "metadata": {
    "colab": {
     "base_uri": "https://localhost:8080/",
     "height": 364
    },
    "id": "EefXfQOVh8AA",
    "outputId": "ebfbc7ac-e5c4-430d-ea3a-cf2d9f1654dc"
   },
   "outputs": [],
   "source": [
    "import altair as alt\n",
    "from vega_datasets import data\n",
    "\n",
    "source = data.iris()\n",
    "\n",
    "alt.Chart(source).mark_circle().encode(\n",
    "    alt.X('sepalLength').scale(zero=False),\n",
    "    alt.Y('sepalWidth').scale(zero=False, padding=1),\n",
    "    color='species',\n",
    "    size='petalWidth'\n",
    ")"
   ]
  },
  {
   "cell_type": "markdown",
   "metadata": {
    "id": "UW2cszQph8AA"
   },
   "source": [
    "Run the next cell to create an interactive 3D plot using the Iris dataset and the [Plotly library](https://dash.plotly.com/project-maintenance)."
   ]
  },
  {
   "cell_type": "code",
   "execution_count": null,
   "metadata": {
    "colab": {
     "base_uri": "https://localhost:8080/",
     "height": 542
    },
    "id": "NuftwGkNh8AA",
    "outputId": "2791d122-9697-4564-da30-a6dee67058c9"
   },
   "outputs": [],
   "source": [
    "import plotly.express as px\n",
    "from sklearn.datasets import load_iris\n",
    "\n",
    "# Load the iris dataset using sklearn\n",
    "iris_data = load_iris()\n",
    "import pandas as pd\n",
    "\n",
    "# Convert to pandas DataFrame for easier plotting\n",
    "iris_df = pd.DataFrame(\n",
    "    iris_data.data,\n",
    "    columns=['sepal_length', 'sepal_width', 'petal_length', 'petal_width']\n",
    ")\n",
    "iris_df['species'] = [iris_data.target_names[i] for i in iris_data.target]\n",
    "\n",
    "# Create 3D scatter plot\n",
    "fig = px.scatter_3d(\n",
    "    iris_df,\n",
    "    x='sepal_length',\n",
    "    y='sepal_width',\n",
    "    z='petal_length',\n",
    "    color='species',\n",
    "    hover_data=['petal_width']\n",
    ")\n",
    "\n",
    "# Update layout for better visualization\n",
    "fig.update_layout(\n",
    "    title='3D Scatter Plot of Iris Dataset',\n",
    "    scene=dict(\n",
    "        xaxis_title='Sepal Length (cm)',\n",
    "        yaxis_title='Sepal Width (cm)',\n",
    "        zaxis_title='Petal Length (cm)'\n",
    "    )\n",
    ")\n",
    "\n",
    "# Show the plot\n",
    "fig.show()"
   ]
  },
  {
   "cell_type": "markdown",
   "metadata": {
    "id": "tLFGR54tb289"
   },
   "source": [
    "### Dimensionality reduction"
   ]
  },
  {
   "cell_type": "markdown",
   "metadata": {
    "id": "iJXM7yfDb289"
   },
   "source": [
    "Below is a code snippet that demonstrates a principal component analysis (PCA) using the Iris dataset. PCA is a dimensionality reduction technique that is commonly used in machine learning and data analysis to reduce the number of features in a dataset while preserving as much variance as possible."
   ]
  },
  {
   "cell_type": "code",
   "execution_count": null,
   "metadata": {
    "colab": {
     "base_uri": "https://localhost:8080/",
     "height": 470
    },
    "id": "6PrhFn0qb28-",
    "outputId": "e463f242-ea01-4b45-b15c-4378ce38f615"
   },
   "outputs": [],
   "source": [
    "import matplotlib.pyplot as plt\n",
    "from sklearn import datasets\n",
    "from sklearn.decomposition import PCA\n",
    "\n",
    "# Load the iris dataset\n",
    "iris = datasets.load_iris()\n",
    "X = iris.data\n",
    "y = iris.target\n",
    "target_names = iris.target_names\n",
    "\n",
    "# Apply PCA\n",
    "pca = PCA(n_components=2)\n",
    "X_r = pca.fit(X).transform(X)\n",
    "\n",
    "# Print explained variance ratio\n",
    "print(\n",
    "    \"explained variance ratio (first two components): %s\"\n",
    "    % str(pca.explained_variance_ratio_)\n",
    ")\n",
    "\n",
    "# Create the PCA plot\n",
    "plt.figure()\n",
    "colors = [\"navy\", \"turquoise\", \"darkorange\"]\n",
    "lw = 2\n",
    "\n",
    "for color, i, target_name in zip(colors, [0, 1, 2], target_names):\n",
    "    plt.scatter(\n",
    "        X_r[y == i, 0], X_r[y == i, 1],\n",
    "        color=color,\n",
    "        alpha=0.8,\n",
    "        lw=lw,\n",
    "        label=target_name\n",
    "    )\n",
    "plt.legend(loc=\"best\", shadow=False, scatterpoints=1)\n",
    "plt.title(\"PCA of IRIS dataset\")\n",
    "plt.show()\n",
    "\n"
   ]
  },
  {
   "cell_type": "markdown",
   "metadata": {
    "id": "wSm3FVGjb28-"
   },
   "source": [
    "### Accessing external data sources"
   ]
  },
  {
   "cell_type": "markdown",
   "metadata": {
    "id": "trzLOFpHh8AA"
   },
   "source": [
    "The code cell below defines helper functions for accessing [NCBI's Datasets v2 REST API](https://www.ncbi.nlm.nih.gov/datasets/docs/v2/reference-docs/rest-api/) using gene symbols as input. Use of the REST API requires an API key from NCBI.\n",
    "\n",
    "**Important Security Note:** Never expose API keys in shared notebooks or code. Use secure methods to store and access your API key.\n",
    "\n",
    "#### API Key Setup Instructions\n",
    "\n",
    "**For Google Colab Users:**\n",
    "1. The code cell will be hidden due to form display mode\n",
    "2. Add your API key to Google Colab secrets:\n",
    "   - Click the 🔑 Secrets tab in the left panel\n",
    "   - Create a new secret named `NCBI_API_KEY`\n",
    "   - [Learn more about Google Colab forms](https://colab.research.google.com/notebooks/forms.ipynb)\n",
    "\n",
    "**For Local Jupyter/VS Code Users:**\n",
    "- The code will display an [iPython widget](https://ipywidgets.readthedocs.io/en/stable/) for secure key entry\n",
    "- Alternatively, set the `NCBI_API_KEY` environment variable\n",
    "\n",
    "Need an API key? [Learn how to obtain one from NCBI](https://www.ncbi.nlm.nih.gov/datasets/docs/v2/api/api-keys/)\n"
   ]
  },
  {
   "cell_type": "code",
   "execution_count": null,
   "metadata": {
    "colab": {
     "base_uri": "https://localhost:8080/"
    },
    "id": "qruicOoBh8AA",
    "outputId": "7fc549d3-fa61-4290-f431-bf07516f39e8"
   },
   "outputs": [],
   "source": [
    "# @title Helper function definitions { display-mode: \"form\" }\n",
    "\n",
    "import sys, os\n",
    "import ipywidgets as widgets\n",
    "from IPython.display import display, HTML\n",
    "import requests\n",
    "from urllib.parse import quote\n",
    "from typing import List, Dict, Union\n",
    "import re\n",
    "\n",
    "def get_api_key():\n",
    "    try:\n",
    "        from google.colab import userdata\n",
    "        ncbi_api_key = userdata.get('NCBI_API_KEY')\n",
    "        if ncbi_api_key:\n",
    "            print(\"✓ API key loaded from Google Colab Secrets\")\n",
    "            return ncbi_api_key\n",
    "    except ImportError:\n",
    "        pass\n",
    "\n",
    "    try:\n",
    "        ncbi_api_key = os.environ.get(\"NCBI_API_KEY\")\n",
    "        if ncbi_api_key:\n",
    "            print(\"✓ API key loaded from environment variables\")\n",
    "            return ncbi_api_key\n",
    "    except Exception:\n",
    "        pass\n",
    "\n",
    "    # Display instructions\n",
    "    print(\"Please provide your NCBI API key using one of these methods:\")\n",
    "    print(\"1. Google Colab: Add to Secrets with name 'NCBI_API_KEY'\")\n",
    "    print(\"2. Local/VS Code: Set environment variable 'NCBI_API_KEY'\")\n",
    "    print(\"3. Or enter it below (not recommended for shared notebooks)\")\n",
    "\n",
    "    # Fall back to password widget\n",
    "    from getpass import getpass\n",
    "    ncbi_api_key = getpass('Enter NCBI API Key: ')\n",
    "    return ncbi_api_key\n",
    "\n",
    "def validate_gene_symbol(change):\n",
    "    new_value = change.new\n",
    "    if new_value:\n",
    "        formatted_value = new_value.upper()\n",
    "        formatted_value = re.sub(r'[^A-Z0-9]', '', formatted_value)\n",
    "        if formatted_value != new_value:\n",
    "            gene_symbol_widget.value = formatted_value\n",
    "\n",
    "def on_value_change(change):\n",
    "    global gene_symbols\n",
    "    gene_symbols = [change.new]\n",
    "\n",
    "def get_gene_metadata(\n",
    "    gene_symbols: Union[List[str], str],\n",
    "    api_key: str,\n",
    "    taxon: str = \"human\",\n",
    "    retry_delay: int = 1\n",
    ") -> Dict:\n",
    "\n",
    "    genes = \",\".join(gene_symbols) if isinstance(gene_symbols, list) else gene_symbols\n",
    "    encoded_genes = quote(genes)\n",
    "    encoded_taxon = quote(taxon)\n",
    "    url = f\"https://api.ncbi.nlm.nih.gov/datasets/v2alpha/gene/symbol/{encoded_genes}/taxon/{encoded_taxon}\"\n",
    "    headers = {\n",
    "        \"accept\": \"application/json\",\n",
    "        \"api-key\": api_key\n",
    "    }\n",
    "\n",
    "    # Make a GET request to the NCBI API\n",
    "    response = requests.get(url, headers=headers)\n",
    "\n",
    "    # Check the status code of the response\n",
    "    if response.status_code == 200:\n",
    "        return response.json()\n",
    "    elif response.status_code == 429:  # Too Many Requests\n",
    "        time.sleep(retry_delay)\n",
    "        return get_gene_metadata(gene_symbols, api_key, taxon)\n",
    "    else:\n",
    "        return f\"Error: {response.status_code}, {response.text}\"\n",
    "\n",
    "def parse_data(response, fields=None):\n",
    "\n",
    "    # Input validation\n",
    "    if not isinstance(response, dict) or \"reports\" not in response:\n",
    "        raise ValueError(\"Invalid response format\")\n",
    "\n",
    "    if fields is None:\n",
    "        fields = [\"symbol\", \"description\", \"common_name\", \"synonyms\", \"swiss_prot_accessions\"]\n",
    "\n",
    "    valid_fields = [\n",
    "        \"gene_id\", \"symbol\", \"description\", \"common_name\", \"type\", \"orientation\",\n",
    "        \"reference_standards\", \"chromosomes\", \"nomenclature_authority\",\n",
    "        \"swiss_prot_accessions\", \"ensembl_gene_ids\", \"omim_ids\", \"synonyms\",\n",
    "        \"annotations\", \"transcript_count\", \"protein_count\", \"transcript_type_counts\",\n",
    "        \"gene_groups\"\n",
    "    ]\n",
    "\n",
    "    for field in fields:\n",
    "        if field not in valid_fields:\n",
    "            raise ValueError(f\"Invalid field: {field}. Please choose from {valid_fields}\")\n",
    "\n",
    "    # Parse the response data\n",
    "    metadata = {}\n",
    "    try:\n",
    "        for report in response[\"reports\"]:\n",
    "            gene_data = report[\"gene\"]\n",
    "            symbol = gene_data[\"symbol\"]\n",
    "            metadata[symbol] = {}\n",
    "\n",
    "            for field in fields:\n",
    "                if field == \"symbol\":\n",
    "                    metadata[symbol][\"symbol\"] = symbol\n",
    "                elif field in gene_data:\n",
    "                    metadata[symbol][field] = gene_data.get(field)\n",
    "                else:\n",
    "                    metadata[symbol][field] = None\n",
    "\n",
    "            if \"synonyms\" in fields:\n",
    "                metadata[symbol][\"all_symbols\"] = [symbol] + gene_data.get(\"synonyms\", [])\n",
    "\n",
    "    except KeyError as e:\n",
    "        print(f\"Error: Expected key not found in response: {e}\")\n",
    "\n",
    "    return metadata\n",
    "\n",
    "ncbi_api_key = get_api_key()"
   ]
  },
  {
   "cell_type": "code",
   "execution_count": null,
   "metadata": {
    "colab": {
     "base_uri": "https://localhost:8080/",
     "height": 50,
     "referenced_widgets": [
      "a3db1edddf5948b0b574dddd22660ae5",
      "1bb3ba506bad4526b3a8e1b3202dd406",
      "3ef3a7d9da9c44869ab677e99e1ec608"
     ]
    },
    "id": "_XXSFhFyb28_",
    "outputId": "ef7e13dc-b0d7-46f7-b0ca-10fcd6500d1c"
   },
   "outputs": [],
   "source": [
    "# @title Select a gene symbol { display-mode: \"form\" }\n",
    "\n",
    "gene_symbol = input('Enter Gene Symbol (e.g., DNAH5): ').strip().upper()\n",
    "print(f\"Gene symbol: {gene_symbol}\")\n",
    "gene_symbols = [gene_symbol]"
   ]
  },
  {
   "cell_type": "code",
   "execution_count": null,
   "metadata": {
    "colab": {
     "base_uri": "https://localhost:8080/"
    },
    "id": "-POBjpKsoQIz",
    "outputId": "4510c8b5-f5f7-44d9-e278-2893adfb2822"
   },
   "outputs": [],
   "source": [
    "# @title Call NCBI API and parse response data { display-mode: \"form\" }\n",
    "\n",
    "from pprint import pprint\n",
    "if ncbi_api_key:\n",
    "    response = get_gene_metadata(gene_symbols, ncbi_api_key, taxon=\"human\")\n",
    "    if len(response) == 0:\n",
    "        print(f\"No metadata found for gene symbol: {gene_symbols[0]}. Check if this is a valid gene symbol.\")\n",
    "    else:\n",
    "        metadata = parse_data(response, fields=[\"gene_id\", \"symbol\", \"type\", \"description\", \"omim_ids\", \"synonyms\", \"swiss_prot_accessions\"])\n",
    "        pprint(metadata)\n",
    "else:\n",
    "    print(\"Please enter your NCBI API above to fetch gene metadata.\")"
   ]
  },
  {
   "cell_type": "markdown",
   "metadata": {
    "id": "moLoMOBbqGKF"
   },
   "source": [
    "### Chat with large language models"
   ]
  },
  {
   "cell_type": "markdown",
   "metadata": {
    "id": "e0C14Ijhp_NS"
   },
   "source": [
    "#### Chat with Llama 3.2 1B\n",
    "\n",
    "This code snippet is intended for Jupyter notebooks running locally.\n",
    "\n",
    "**Before you run the next two code cells:**\n",
    "1. Download **Ollama** and follow the instructions to install it for your operating system.\n",
    "2. Pull and run **llama3.2:1B** (hash: `baf6a787fdff`, download size: **1.3 GB**) according to the [model instructions on the official Ollama webpage](https://ollama.com/library/llama3.2).\n",
    "3. Create and activate a virtual environment.\n",
    "4. Install the `ollama` Python library. You can do so from your terminal by running `pip install ollama`, or from within a Jypyter notebook environment using line magics, like so: `%pip install ollama`.\n",
    "\n",
    "\n",
    "**Creating a Virtual Environment:**\n",
    "It is recommended to create a new virtual environment for any new project or workflow. To do this, open your terminal and set up a new virtual environment using **Conda**.\n",
    "\n",
    "You can find quick command line instructions on how to install **Miniconda**, a free minimal installer for Conda, [here](https://docs.anaconda.com/free/miniconda/#quick-command-line-install)."
   ]
  },
  {
   "cell_type": "code",
   "execution_count": null,
   "metadata": {
    "colab": {
     "base_uri": "https://localhost:8080/"
    },
    "id": "9FgZMXHvqOq1",
    "outputId": "3a72dd76-1f51-4a54-81a1-4ab9a4622ed2"
   },
   "outputs": [],
   "source": [
    "import os, sys\n",
    "\n",
    "# Check if we're running in Colab (where Ollama won't work)\n",
    "is_colab = 'COLAB_GPU' in os.environ\n",
    "is_conda = 'conda' in sys.prefix\n",
    "\n",
    "if is_colab:\n",
    "    print(\"Ollama must run locally, not in Google Colab. Please use a local Jupyter notebook.\")\n",
    "\n",
    "# Install ollama package if in Conda environment\n",
    "if is_conda:\n",
    "    %pip install -qU ollama\n",
    "    print(\"Ollama package installed ✓\")\n",
    "\n",
    "    # Check if Ollama service is running\n",
    "    import subprocess\n",
    "    try:\n",
    "        subprocess.run(['ollama', 'list'], capture_output=True, check=True)\n",
    "        print(\"Ollama service is running ✓\")\n",
    "    except (subprocess.CalledProcessError, FileNotFoundError):\n",
    "        print(\"⚠️ Please install Ollama from https://ollama.com\")"
   ]
  },
  {
   "cell_type": "code",
   "execution_count": null,
   "metadata": {
    "colab": {
     "base_uri": "https://localhost:8080/"
    },
    "id": "5m9mwmHPqS4p",
    "outputId": "8d14960d-969f-4fd8-9d68-7e8afca5d66d"
   },
   "outputs": [],
   "source": [
    "# Define the system message and prompt\n",
    "system_message = \"\"\"\n",
    "You are a helpful AI assistant. Respond with the shortest possible answers while maintaining clarity and accuracy.\n",
    "Avoid unnecessary details, explanations, or pleasantries. Be direct and to the point in all responses.\n",
    "\"\"\"\n",
    "\n",
    "prompt = \"According to 'The Hitchhiker's Guide to the Galaxy' by Douglas Adams, what is the meaning of life?\"\n",
    "\n",
    "# Chat with the model\n",
    "if is_colab:\n",
    "    print(\"This code snippet is not available in Google Colab and should be run locally, with the Ollama app installed.\")\n",
    "elif is_conda:\n",
    "    try:\n",
    "        import ollama\n",
    "    except:\n",
    "        print(\"Install Ollama by running `%pip install ollama` first. You may need to restart the kernel after installation.\")\n",
    "    try:\n",
    "        response = ollama.chat(\n",
    "            model=\"llama3.2:1b\",\n",
    "            messages=[\n",
    "                {\"role\": \"system\", \"content\": system_message},\n",
    "                {\"role\": \"user\", \"content\": f\"{prompt}\"}\n",
    "                ],\n",
    "            stream=True,\n",
    "            )\n",
    "        for chunk in response:\n",
    "            print(chunk[\"message\"][\"content\"], end=\"\", flush=True)\n",
    "    except Exception as e:\n",
    "        print(e)\n",
    "else:\n",
    "    print(\"It is recommended to run this code in a virtual conda environment.\")"
   ]
  },
  {
   "cell_type": "markdown",
   "metadata": {
    "id": "fQ1SwkmyqYin"
   },
   "source": [
    "Visit the official [Ollama website](https://ollama.com/) and [documentation](https://github.com/ollama/ollama/blob/main/docs/README.md) for more information."
   ]
  },
  {
   "cell_type": "markdown",
   "metadata": {
    "id": "_TvaDyooqbsu"
   },
   "source": [
    "#### Chat with [Cohere's](https://cohere.com) Command A model\n",
    "\n",
    "This code snippet requires an API key from Cohere AI.\n",
    "\n",
    "**Before you run the next two code cells:**\n",
    "1. Get a free trial key by [signing up for an account here](https://dashboard.cohere.com/welcome/login?).\n",
    "2. Create a new key [here](https://dashboard.cohere.com/api-keys).\n",
    "\n",
    "If you are working in a Google Colab environment, it is recommended to safely store your trial key in your Google Colab Secrets (see the \"Secrets\" tab on the left). Make sure you enable Notebook access. When working locally, store the key in an environment variable.\n"
   ]
  },
  {
   "cell_type": "code",
   "execution_count": null,
   "metadata": {
    "colab": {
     "base_uri": "https://localhost:8080/"
    },
    "id": "LAOoo7dJqcCD",
    "outputId": "873b4b24-fa08-4a70-fd92-3fe3f3c405fd"
   },
   "outputs": [],
   "source": [
    "# Simple environment check and package installation\n",
    "import os, sys\n",
    "\n",
    "# Check if we're in Google Colab (looks for COLAB_GPU environment variable)\n",
    "is_colab = 'COLAB_GPU' in os.environ\n",
    "\n",
    "# Check if we're in a Conda environment (checks system prefix)\n",
    "is_conda = 'conda' in sys.prefix\n",
    "\n",
    "# Install cohere package if we're in Colab or Conda environment\n",
    "if is_colab or is_conda:\n",
    "    %pip install cohere -qqqU  # -qqqU means quiet install and upgrade if needed"
   ]
  },
  {
   "cell_type": "code",
   "execution_count": null,
   "metadata": {
    "colab": {
     "base_uri": "https://localhost:8080/"
    },
    "id": "gPCwXtasqloH",
    "outputId": "0dac09ae-9ac3-4755-c4b9-7691d90e4771"
   },
   "outputs": [],
   "source": [
    "import os\n",
    "\n",
    "# Check if we're running in Google Colab\n",
    "is_colab = 'google.colab' in str(get_ipython())\n",
    "\n",
    "# Get API key based on environment\n",
    "if is_colab:\n",
    "    # For Google Colab: Try to get API key from secrets\n",
    "    from google.colab import userdata\n",
    "    cohere_api_key = userdata.get(\"COHERE_API_KEY\") or input(\"Enter your Cohere API key: \")\n",
    "else:\n",
    "    # For local Jupyter: Try to get API key from environment variables\n",
    "    cohere_api_key = os.environ.get(\"COHERE_API_KEY\") or input(\"Enter your Cohere API key: \")\n",
    "\n",
    "print(f\"Running in {'Google Colab' if is_colab else 'local Jupyter'}\")"
   ]
  },
  {
   "cell_type": "code",
   "execution_count": null,
   "metadata": {
    "colab": {
     "base_uri": "https://localhost:8080/"
    },
    "id": "7q5I7i5AqsUQ",
    "outputId": "44948299-6723-47a3-cf56-4ef9fa35b32b"
   },
   "outputs": [],
   "source": [
    "# Call API\n",
    "import cohere\n",
    "\n",
    "prompt = \"According to 'The Hitchhiker's Guide to the Galaxy' by Douglas Adams, what is the meaning of life?\"\n",
    "\n",
    "if cohere_api_key:\n",
    "    try:\n",
    "        co = cohere.ClientV2(cohere_api_key)\n",
    "        response = co.chat(\n",
    "            model=\"command-a-03-2025\",\n",
    "            messages=[{\"role\": \"user\", \"content\": prompt}]\n",
    "        )\n",
    "        print(response.message.content[0].text)\n",
    "    except Exception as e:\n",
    "        print(e)\n",
    "else:\n",
    "    print(\"Please provide a valid Cohere API key.\")"
   ]
  },
  {
   "cell_type": "markdown",
   "metadata": {
    "id": "T-T2lk2-qccn"
   },
   "source": [
    "Visit Cohere's [documentation pages](https://docs.cohere.com/reference/chat) to learn more about using the chat endpoint of Cohere's API."
   ]
  },
  {
   "cell_type": "markdown",
   "metadata": {
    "id": "6URxIbqbh8AB"
   },
   "source": [
    "## Understanding the cell types and modes in Jupyter Notebooks\n",
    "\n",
    "Jupyter Notebooks have two main modes: **Edit Mode** and **Command Mode**. These modes work closely with the different types of cells in a notebook, such as code cells and markdown cells.\n",
    "\n",
    "### Types of Cells\n",
    "\n",
    "1. **Code Cells**\n",
    "   - **Purpose**: These cells are used to write and execute code. When you run a code cell, the code is sent to the kernel, which processes it and returns the output.\n",
    "   - **Interaction with Modes**: In Edit Mode, you can write your code. In Command Mode, you can run the code cell, or move it up, or down.\n",
    "\n",
    "2. **Markdown Cells**\n",
    "   - **Purpose**: These cells are for writing text, explanations, and formatting. You can include headings, lists, and even equations using Markdown syntax.\n",
    "   - **Interaction with Modes**: In Edit Mode, you can type and format your text. In Command Mode, you can convert a code cell to a markdown cell or vice versa.\n",
    "\n",
    "### Summary\n",
    "- **Edit Mode**: Allows you to write and edit content in all cell types.\n",
    "- **Command Mode**: Enables you to manage cells, run code, and change cell types.\n",
    "\n",
    "Understanding how these modes interact with different cell types helps you use Jupyter Notebooks more effectively. You can easily switch between writing code, formatting text, and managing your notebook's structure.\n"
   ]
  },
  {
   "cell_type": "markdown",
   "metadata": {
    "id": "jBCyELiXh8AB"
   },
   "source": [
    "## Common keyboard shortcuts for Jupyter Notebooks\n",
    "\n",
    "The following is a short list of common keyboard shortcuts that can help you navigate through a Jupyter Notebook. These shortcuts can save you time and make you more productive while working with Jupyter Notebooks.\n",
    "\n",
    "**Important Note:** The actions you can perform depend on the current mode of the cell: Edit mode or Command mode. Some keyboard shortcuts may vary depending on whether you are using a Jupyter Notebook from [Project Jupyter](https://docs.jupyter.org/en/latest/) or the [Jupyter extension in Visual Studio Code](https://code.visualstudio.com/docs/getstarted/keybindings).\n",
    "\n",
    "You can also customize the keyboard shortcuts by going to the \"Help\" menu in both environments.\n",
    "\n",
    "### Change between edit and command mode\n",
    "- Change to Edit mode: `Enter`\n",
    "- Change to Command mode: `Esc`\n",
    "\n",
    "### Edit Mode Shortcuts\n",
    "- Run a cell and select the cell below: `Shift + Enter`\n",
    "- Interrupt kernel: `I, I`\n",
    "\n",
    "### Command Mode Shortcuts\n",
    "- Show keyboard shortcuts: `H`\n",
    "- Change cell type to code: `Y`\n",
    "- Change cell type to markdown: `M`\n",
    "- Copy cell: `C`\n",
    "- Cut cell: `X`\n",
    "- Paste cell: `V`\n",
    "- Delete cell: `D, D`\n",
    "- Move a cell up:\n",
    "    - Code Extension: `Cmd + Up`\n",
    "    - Jupyter: `Shift + Ctrl + Up`\n",
    "- Move a cell down:\n",
    "    - Code Extension: `Cmd + Down`\n",
    "    - Jupyter: `Shift + Ctrl + Down`\n",
    "- Merge selected cells: `Shift + M`\n",
    "\n",
    "### Save the Notebook\n",
    "- Save: `Cmd + S`\n",
    "- Save As...: `Shift + Cmd + S`"
   ]
  },
  {
   "cell_type": "markdown",
   "metadata": {
    "id": "wJABMnaMHpY_"
   },
   "source": [
    "## Magic commands"
   ]
  },
  {
   "cell_type": "markdown",
   "metadata": {
    "id": "clV0i8fcJ45V"
   },
   "source": [
    "Magic commands are special commands in Jupyter Notebooks that enhance functionality beyond standard Python code. They are prefixed with either one (`%`) or two (`%%`) percent symbols.\n",
    "\n",
    "### Types of Magic Commands\n",
    "\n",
    "1. **Line Magics (`%`)**\n",
    "   - Apply to a single line of code\n",
    "   - Example: `%matplotlib inline`\n",
    "   - Get arguments from the rest of the line\n",
    "\n",
    "2. **Cell Magics (`%%`)**\n",
    "   - Apply to the entire cell\n",
    "   - Example: `%%timeit`\n",
    "   - Can process multiple lines of code\n",
    "\n",
    "### Magic Commands by Category\n",
    "\n",
    "#### System Operations\n",
    "- `%pwd` - Print working directory\n",
    "- `%cd` - Change directory\n",
    "- `%ls` - List directory contents\n",
    "- `%mkdir` - Create new directory\n",
    "- `%debug` - Activate interactive debugger\n",
    "\n",
    "#### Package Management\n",
    "\n",
    "- `%pip` - Install Python packages from the [Python Package Index (PyPI)](https://pypi.org/) repository\n",
    "    ```python\n",
    "    %pip install <package>\n",
    "    ```\n",
    "- `%conda` - Install with [conda](https://docs.anaconda.com/miniconda/)\n",
    "    ```python\n",
    "    %conda install <package>\n",
    "    ```\n",
    "**Note:** Always use %pip instead of !pip to ensure installation in the correct environment \n",
    "\n",
    "#### Environment Management\n",
    "\n",
    "- %env - Manage environment variables\n",
    "    ```python\n",
    "    %env                     # List all variables\n",
    "    %env VAR_NAME           # Get specific variable\n",
    "    %env VAR_NAME=value     # Set variable\n",
    "    ````\n",
    "\n",
    "#### File Operations\n",
    "\n",
    "- %%writefile - Write cell contents to file:\n",
    "\n",
    "    ```python\n",
    "    %%writefile example.txt\n",
    "    This creates a new file\n",
    "    ```\n",
    "\n",
    "- With append flag:\n",
    "    ```python\n",
    "    %%writefile -a example.txt\n",
    "    This adds to existing file\n",
    "    ```\n",
    "\n",
    "#### Code Execution\n",
    "\n",
    "- %run - Execute Python scripts:\n",
    "    ```python\n",
    "    %run script.py\n",
    "    ```\n",
    "\n",
    "- %time - Time single line execution\n",
    "- %%time - Time cell execution\n",
    "\n",
    "#### Utility Commands\n",
    "- %lsmagic - List all available magic commands\n",
    "- %more - Display file contents\n",
    "- %who - List all variables in namespace\n",
    "\n",
    "### Best Practices\n",
    "- Environment Management\n",
    "    - Use %pip over !pip for package installation\n",
    "    - Use %env for environment variables\n",
    "- File Operations\n",
    "    - Always check before overwriting files with %%writefile\n",
    "    - Use -a flag to append instead of overwrite\n",
    "- Performance\n",
    "    - Use %time and %%time to profile code\n",
    "    - Consider %%timeit for more accurate benchmarking\n",
    "- Debugging\n",
    "    - %debug enters interactive debugging\n",
    "    - Use with %pdb for automatic debugging on exceptions\n",
    "\n",
    "### Common Pitfalls\n",
    "- Magic commands only work in Jupyter environments\n",
    "- ome commands may behave differently across platforms\n",
    "- Cell magic (%%) must be the first line in a cell\n",
    "- Line magic (%) can appear anywhere in a line"
   ]
  },
  {
   "cell_type": "markdown",
   "metadata": {
    "id": "NcZy0F0vItwn"
   },
   "source": [
    "## Executing shell commands"
   ]
  },
  {
   "cell_type": "markdown",
   "metadata": {
    "id": "V6VPdMJuHpZC"
   },
   "source": [
    "In IPython syntax, the exclamation mark (!) allows users to run shell commands from inside a Jupyter Notebook code cell, like so:\n",
    "\n",
    "`!pwd` Prints the current working directory.\n",
    "\n",
    "`!mkdir <directory name>` Makes a new directory.\n",
    "\n",
    "`!touch <filename>` Creates an empty file. E.g.: `!touch main.py`\n",
    "\n",
    "`!rm <filename` Removes a file.\n",
    "\n",
    "`!rmdir` Used to remove directories. Please note that the directory must be empty before it can be removed.\n",
    "\n",
    "***Note!*** It  is not recommended to use `!pip` or `!conda` as those can behave in unexpected ways when having multiple environments."
   ]
  },
  {
   "cell_type": "markdown",
   "metadata": {
    "id": "6mYdg5KJNGy_"
   },
   "source": [
    "## Additional resources"
   ]
  },
  {
   "cell_type": "markdown",
   "metadata": {
    "id": "9fjvUVHAh8AD"
   },
   "source": [
    "### Further Jupyter Notebook tutorials"
   ]
  },
  {
   "cell_type": "markdown",
   "metadata": {
    "id": "6fLObvMeM_jk"
   },
   "source": [
    "- [Project Jupyter Documentation](https://docs.jupyter.org/en/latest/)\n",
    "\n",
    "- [Jupyter Notebooks in VS Code](https://code.visualstudio.com/docs/datascience/jupyter-notebooks)\n",
    "\n",
    "- [Jupyter Notebook 101 on kaggle](https://www.kaggle.com/code/jhoward/jupyter-notebook-101)"
   ]
  },
  {
   "cell_type": "markdown",
   "metadata": {
    "id": "Oy8KdlUyNS7k"
   },
   "source": [
    "### Recommended books available online (open source)"
   ]
  },
  {
   "cell_type": "markdown",
   "metadata": {
    "id": "aZadctQYh8AD"
   },
   "source": [
    "- **Python for Data Analysis, 3rd Edition**, by Wes McKinney (ISBN: 9781098104030, released August 2022)\n",
    "\n",
    "    - [HTML version of the book](https://wesmckinney.com/book/)\n",
    "    - [GitHub repository with Jupyter notebooks](https://github.com/wesm/pydata-book/tree/3rd-edition)\n",
    "\n",
    "- **Deep Learning for Coders with fastai and PyTorch: AI Applications Without a PhD**, by Jeremy Howard and Sylvain Gugger (ISBN: 9781492045526, released August 2020)\n",
    "    - [HTML version of the book](https://course.fast.ai/Resources/book.html)\n",
    "    - [Associated online course](https://course.fast.ai/)\n",
    "    - [GitHub repository with Jupyter notebooks](https://github.com/fastai/fastbook/)"
   ]
  },
  {
   "cell_type": "markdown",
   "metadata": {
    "id": "ZFLb769nh8AD"
   },
   "source": []
  }
 ],
 "metadata": {
  "colab": {
   "provenance": []
  },
  "kernelspec": {
   "display_name": "public-tutorials-env",
   "language": "python",
   "name": "python3"
  },
  "language_info": {
   "codemirror_mode": {
    "name": "ipython",
    "version": 3
   },
   "file_extension": ".py",
   "mimetype": "text/x-python",
   "name": "python",
   "nbconvert_exporter": "python",
   "pygments_lexer": "ipython3",
   "version": "3.12.8"
  },
  "widgets": {
   "application/vnd.jupyter.widget-state+json": {
    "1bb3ba506bad4526b3a8e1b3202dd406": {
     "model_module": "@jupyter-widgets/base",
     "model_module_version": "1.2.0",
     "model_name": "LayoutModel",
     "state": {
      "_model_module": "@jupyter-widgets/base",
      "_model_module_version": "1.2.0",
      "_model_name": "LayoutModel",
      "_view_count": null,
      "_view_module": "@jupyter-widgets/base",
      "_view_module_version": "1.2.0",
      "_view_name": "LayoutView",
      "align_content": null,
      "align_items": null,
      "align_self": null,
      "border": null,
      "bottom": null,
      "display": null,
      "flex": null,
      "flex_flow": null,
      "grid_area": null,
      "grid_auto_columns": null,
      "grid_auto_flow": null,
      "grid_auto_rows": null,
      "grid_column": null,
      "grid_gap": null,
      "grid_row": null,
      "grid_template_areas": null,
      "grid_template_columns": null,
      "grid_template_rows": null,
      "height": null,
      "justify_content": null,
      "justify_items": null,
      "left": null,
      "margin": null,
      "max_height": null,
      "max_width": null,
      "min_height": null,
      "min_width": null,
      "object_fit": null,
      "object_position": null,
      "order": null,
      "overflow": null,
      "overflow_x": null,
      "overflow_y": null,
      "padding": null,
      "right": null,
      "top": null,
      "visibility": null,
      "width": null
     }
    },
    "3ef3a7d9da9c44869ab677e99e1ec608": {
     "model_module": "@jupyter-widgets/controls",
     "model_module_version": "1.5.0",
     "model_name": "DescriptionStyleModel",
     "state": {
      "_model_module": "@jupyter-widgets/controls",
      "_model_module_version": "1.5.0",
      "_model_name": "DescriptionStyleModel",
      "_view_count": null,
      "_view_module": "@jupyter-widgets/base",
      "_view_module_version": "1.2.0",
      "_view_name": "StyleView",
      "description_width": "initial"
     }
    },
    "a3db1edddf5948b0b574dddd22660ae5": {
     "model_module": "@jupyter-widgets/controls",
     "model_module_version": "1.5.0",
     "model_name": "TextModel",
     "state": {
      "_dom_classes": [],
      "_model_module": "@jupyter-widgets/controls",
      "_model_module_version": "1.5.0",
      "_model_name": "TextModel",
      "_view_count": null,
      "_view_module": "@jupyter-widgets/controls",
      "_view_module_version": "1.5.0",
      "_view_name": "TextView",
      "continuous_update": true,
      "description": "Gene Symbol:",
      "description_tooltip": null,
      "disabled": false,
      "layout": "IPY_MODEL_1bb3ba506bad4526b3a8e1b3202dd406",
      "placeholder": "Enter 3-6 characters",
      "style": "IPY_MODEL_3ef3a7d9da9c44869ab677e99e1ec608",
      "value": "DNAH5"
     }
    }
   }
  }
 },
 "nbformat": 4,
 "nbformat_minor": 0
}
